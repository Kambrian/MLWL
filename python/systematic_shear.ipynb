{
 "metadata": {
  "name": "systematic_shear"
 },
 "nbformat": 3,
 "nbformat_minor": 0,
 "worksheets": [
  {
   "cells": [
    {
     "cell_type": "code",
     "collapsed": false,
     "input": [
      "import h5py\n",
      "datadir='/work/Projects/Lensing/outputv4/data/'\n",
      "%cd '/work/Projects/Lensing/outputv4/data/'\n",
      "#f=h5py.File('randprof_MOCK4.SRotate_1200.hdf5','r')\n",
      "f=h5py.File('randprof_SrcSlice6.Pad3_1234.hdf5','r')\n",
      "f1=h5py.File('randprof_SrcSlice6_1234.hdf5','r')\n",
      "f2=h5py.File('randprof_CFHT.CFHTSKY_1234.hdf5','r')\n",
      "#f=h5py.File('WL_MOCK4.hdf5','r')\n",
      "#f1=h5py.File('WL_MOCK4.DeltSig.hdf5','r')\n",
      "r=f['/shear/seperation'][:];\n",
      "s=f['/shear/profile'][:];\n",
      "es=f['/shear/profile_err'][:];\n",
      "cov=f['/shear/covariance'][:];\n",
      "esc=sqrt(cov.diagonal())"
     ],
     "language": "python",
     "metadata": {},
     "outputs": [
      {
       "output_type": "stream",
       "stream": "stdout",
       "text": [
        "/work/Projects/Lensing/outputv4/data\n"
       ]
      }
     ],
     "prompt_number": 25
    },
    {
     "cell_type": "code",
     "collapsed": false,
     "input": [
      "plot(r*180/pi,f1['/shear/profile'][:]/f['/shear/profile'][:],'o')\n",
      "xscale('log')"
     ],
     "language": "python",
     "metadata": {},
     "outputs": [],
     "prompt_number": 26
    },
    {
     "cell_type": "code",
     "collapsed": false,
     "input": [
      "%qtconsole"
     ],
     "language": "python",
     "metadata": {},
     "outputs": [],
     "prompt_number": 2
    },
    {
     "cell_type": "code",
     "collapsed": false,
     "input": [
      "f=h5py.File('randprof_SrcSlice6.Pad3_1234.hdf5','r')\n",
      "f1=h5py.File('randprof_SrcSlice6_1234.hdf5','r')\n",
      "errorbar(r*180/pi,s,esc,fmt='o')\n",
      "xscale('log');\n",
      "#yscale('symlog',linthres=0.001)\n",
      "hold('on')\n",
      "plot(f1['/shear/seperation'][:]*180/pi,f1['/shear/profile'][:])\n",
      "plot(r*180/pi,zeros(r.shape),'-')\n",
      "#errorbar(r*180/pi,f['/rand/profile'][:],f['/rand/profile_err'][:],fmt='-')\n",
      "#plot(r*180/pi,f['/rand/profile'][:],'-')"
     ],
     "language": "python",
     "metadata": {},
     "outputs": [
      {
       "output_type": "pyout",
       "prompt_number": 64,
       "text": [
        "[<matplotlib.lines.Line2D at 0xc8da090>]"
       ]
      }
     ],
     "prompt_number": 64
    },
    {
     "cell_type": "code",
     "collapsed": false,
     "input": [
      "plot(r*180/pi,f['/rand/profile_err'][:]/es,'ro')\n",
      "hold('on')\n",
      "plot(r*180/pi,esc/es,'go')\n",
      "xscale('log');yscale('log')"
     ],
     "language": "python",
     "metadata": {},
     "outputs": [
      {
       "ename": "KeyError",
       "evalue": "\"unable to open object (Symbol table: Can't open object)\"",
       "output_type": "pyerr",
       "traceback": [
        "\u001b[1;31m---------------------------------------------------------------------------\u001b[0m\n\u001b[1;31mKeyError\u001b[0m                                  Traceback (most recent call last)",
        "\u001b[1;32m<ipython-input-5-4aa5d978361a>\u001b[0m in \u001b[0;36m<module>\u001b[1;34m()\u001b[0m\n\u001b[1;32m----> 1\u001b[1;33m \u001b[0mplot\u001b[0m\u001b[1;33m(\u001b[0m\u001b[0mr\u001b[0m\u001b[1;33m*\u001b[0m\u001b[1;36m180\u001b[0m\u001b[1;33m/\u001b[0m\u001b[0mpi\u001b[0m\u001b[1;33m,\u001b[0m\u001b[0mf\u001b[0m\u001b[1;33m[\u001b[0m\u001b[1;34m'/rand/profile_err'\u001b[0m\u001b[1;33m]\u001b[0m\u001b[1;33m[\u001b[0m\u001b[1;33m:\u001b[0m\u001b[1;33m]\u001b[0m\u001b[1;33m/\u001b[0m\u001b[0mes\u001b[0m\u001b[1;33m,\u001b[0m\u001b[1;34m'ro'\u001b[0m\u001b[1;33m)\u001b[0m\u001b[1;33m\u001b[0m\u001b[0m\n\u001b[0m\u001b[0;32m      2\u001b[0m \u001b[0mhold\u001b[0m\u001b[1;33m(\u001b[0m\u001b[1;34m'on'\u001b[0m\u001b[1;33m)\u001b[0m\u001b[1;33m\u001b[0m\u001b[0m\n\u001b[0;32m      3\u001b[0m \u001b[0mplot\u001b[0m\u001b[1;33m(\u001b[0m\u001b[0mr\u001b[0m\u001b[1;33m*\u001b[0m\u001b[1;36m180\u001b[0m\u001b[1;33m/\u001b[0m\u001b[0mpi\u001b[0m\u001b[1;33m,\u001b[0m\u001b[0mesc\u001b[0m\u001b[1;33m/\u001b[0m\u001b[0mes\u001b[0m\u001b[1;33m,\u001b[0m\u001b[1;34m'go'\u001b[0m\u001b[1;33m)\u001b[0m\u001b[1;33m\u001b[0m\u001b[0m\n\u001b[0;32m      4\u001b[0m \u001b[0mxscale\u001b[0m\u001b[1;33m(\u001b[0m\u001b[1;34m'log'\u001b[0m\u001b[1;33m)\u001b[0m\u001b[1;33m;\u001b[0m\u001b[0myscale\u001b[0m\u001b[1;33m(\u001b[0m\u001b[1;34m'log'\u001b[0m\u001b[1;33m)\u001b[0m\u001b[1;33m\u001b[0m\u001b[0m\n",
        "\u001b[1;32m/usr/lib/python2.7/dist-packages/h5py/_hl/group.pyc\u001b[0m in \u001b[0;36m__getitem__\u001b[1;34m(self, name)\u001b[0m\n\u001b[0;32m    125\u001b[0m                 \u001b[1;32mraise\u001b[0m \u001b[0mValueError\u001b[0m\u001b[1;33m(\u001b[0m\u001b[1;34m\"Invalid HDF5 object reference\"\u001b[0m\u001b[1;33m)\u001b[0m\u001b[1;33m\u001b[0m\u001b[0m\n\u001b[0;32m    126\u001b[0m         \u001b[1;32melse\u001b[0m\u001b[1;33m:\u001b[0m\u001b[1;33m\u001b[0m\u001b[0m\n\u001b[1;32m--> 127\u001b[1;33m             \u001b[0moid\u001b[0m \u001b[1;33m=\u001b[0m \u001b[0mh5o\u001b[0m\u001b[1;33m.\u001b[0m\u001b[0mopen\u001b[0m\u001b[1;33m(\u001b[0m\u001b[0mself\u001b[0m\u001b[1;33m.\u001b[0m\u001b[0mid\u001b[0m\u001b[1;33m,\u001b[0m \u001b[0mself\u001b[0m\u001b[1;33m.\u001b[0m\u001b[0m_e\u001b[0m\u001b[1;33m(\u001b[0m\u001b[0mname\u001b[0m\u001b[1;33m)\u001b[0m\u001b[1;33m,\u001b[0m \u001b[0mlapl\u001b[0m\u001b[1;33m=\u001b[0m\u001b[0mself\u001b[0m\u001b[1;33m.\u001b[0m\u001b[0m_shared\u001b[0m\u001b[1;33m.\u001b[0m\u001b[0mlapl\u001b[0m\u001b[1;33m)\u001b[0m\u001b[1;33m\u001b[0m\u001b[0m\n\u001b[0m\u001b[0;32m    128\u001b[0m \u001b[1;33m\u001b[0m\u001b[0m\n\u001b[0;32m    129\u001b[0m         \u001b[0motype\u001b[0m \u001b[1;33m=\u001b[0m \u001b[0mh5i\u001b[0m\u001b[1;33m.\u001b[0m\u001b[0mget_type\u001b[0m\u001b[1;33m(\u001b[0m\u001b[0moid\u001b[0m\u001b[1;33m)\u001b[0m\u001b[1;33m\u001b[0m\u001b[0m\n",
        "\u001b[1;32m/usr/lib/python2.7/dist-packages/h5py/h5o.so\u001b[0m in \u001b[0;36mh5py.h5o.open (h5py/h5o.c:2751)\u001b[1;34m()\u001b[0m\n",
        "\u001b[1;31mKeyError\u001b[0m: \"unable to open object (Symbol table: Can't open object)\""
       ]
      }
     ],
     "prompt_number": 5
    },
    {
     "cell_type": "code",
     "collapsed": false,
     "input": [
      "f0=h5py.File('WL_MOCK3.hdf5','r')\n",
      "r0=f0['/shear/seperation'][:];\n",
      "s0=f0['/shear/profile'][:];\n",
      "es0=f0['/shear/profile_err'][:];\n",
      "cov0=f0['/shear/covariance'][:];\n",
      "esc0=sqrt(cov0.diagonal())"
     ],
     "language": "python",
     "metadata": {},
     "outputs": [],
     "prompt_number": 6
    },
    {
     "cell_type": "code",
     "collapsed": false,
     "input": [
      "f0.items()"
     ],
     "language": "python",
     "metadata": {},
     "outputs": [
      {
       "output_type": "pyout",
       "prompt_number": 76,
       "text": [
        "[(u'predict0', <HDF5 group \"/predict0\" (4 members)>),\n",
        " (u'predict1', <HDF5 group \"/predict1\" (4 members)>),\n",
        " (u'shear', <HDF5 group \"/shear\" (9 members)>)]"
       ]
      }
     ],
     "prompt_number": 76
    },
    {
     "cell_type": "code",
     "collapsed": false,
     "input": [
      "errorbar(r0*180/pi,s0,esc0,fmt='o-')"
     ],
     "language": "python",
     "metadata": {},
     "outputs": [
      {
       "output_type": "pyout",
       "prompt_number": 7,
       "text": [
        "<Container object of 3 artists>"
       ]
      }
     ],
     "prompt_number": 7
    },
    {
     "cell_type": "code",
     "collapsed": false,
     "input": [
      "plot(r0*180/pi,esc0/es0,'ro')\n",
      "hold('on')\n",
      "plot(r*180/pi,esc/es,'go')\n",
      "xscale('log');yscale('log')"
     ],
     "language": "python",
     "metadata": {},
     "outputs": [],
     "prompt_number": 8
    },
    {
     "cell_type": "code",
     "collapsed": false,
     "input": [
      "errorbar(r*180/pi,f['/rand/profile'][:],f['/rand/profile_err'][:],fmt='ro-')\n",
      "hold('on')\n",
      "errorbar(r0*180/pi,f0['/rand/profile'][:],f0['/rand/profile_err'][:],fmt='go-')\n",
      "plot([1e-2,10],[0,0],'-')\n",
      "xscale('log');\n",
      "#yscale('symlog',linthres=0.1)"
     ],
     "language": "python",
     "metadata": {},
     "outputs": [
      {
       "ename": "KeyError",
       "evalue": "\"unable to open object (Symbol table: Can't open object)\"",
       "output_type": "pyerr",
       "traceback": [
        "\u001b[1;31m---------------------------------------------------------------------------\u001b[0m\n\u001b[1;31mKeyError\u001b[0m                                  Traceback (most recent call last)",
        "\u001b[1;32m<ipython-input-9-5d9b3013949c>\u001b[0m in \u001b[0;36m<module>\u001b[1;34m()\u001b[0m\n\u001b[1;32m----> 1\u001b[1;33m \u001b[0merrorbar\u001b[0m\u001b[1;33m(\u001b[0m\u001b[0mr\u001b[0m\u001b[1;33m*\u001b[0m\u001b[1;36m180\u001b[0m\u001b[1;33m/\u001b[0m\u001b[0mpi\u001b[0m\u001b[1;33m,\u001b[0m\u001b[0mf\u001b[0m\u001b[1;33m[\u001b[0m\u001b[1;34m'/rand/profile'\u001b[0m\u001b[1;33m]\u001b[0m\u001b[1;33m[\u001b[0m\u001b[1;33m:\u001b[0m\u001b[1;33m]\u001b[0m\u001b[1;33m,\u001b[0m\u001b[0mf\u001b[0m\u001b[1;33m[\u001b[0m\u001b[1;34m'/rand/profile_err'\u001b[0m\u001b[1;33m]\u001b[0m\u001b[1;33m[\u001b[0m\u001b[1;33m:\u001b[0m\u001b[1;33m]\u001b[0m\u001b[1;33m,\u001b[0m\u001b[0mfmt\u001b[0m\u001b[1;33m=\u001b[0m\u001b[1;34m'ro-'\u001b[0m\u001b[1;33m)\u001b[0m\u001b[1;33m\u001b[0m\u001b[0m\n\u001b[0m\u001b[0;32m      2\u001b[0m \u001b[0mhold\u001b[0m\u001b[1;33m(\u001b[0m\u001b[1;34m'on'\u001b[0m\u001b[1;33m)\u001b[0m\u001b[1;33m\u001b[0m\u001b[0m\n\u001b[0;32m      3\u001b[0m \u001b[0merrorbar\u001b[0m\u001b[1;33m(\u001b[0m\u001b[0mr0\u001b[0m\u001b[1;33m*\u001b[0m\u001b[1;36m180\u001b[0m\u001b[1;33m/\u001b[0m\u001b[0mpi\u001b[0m\u001b[1;33m,\u001b[0m\u001b[0mf0\u001b[0m\u001b[1;33m[\u001b[0m\u001b[1;34m'/rand/profile'\u001b[0m\u001b[1;33m]\u001b[0m\u001b[1;33m[\u001b[0m\u001b[1;33m:\u001b[0m\u001b[1;33m]\u001b[0m\u001b[1;33m,\u001b[0m\u001b[0mf0\u001b[0m\u001b[1;33m[\u001b[0m\u001b[1;34m'/rand/profile_err'\u001b[0m\u001b[1;33m]\u001b[0m\u001b[1;33m[\u001b[0m\u001b[1;33m:\u001b[0m\u001b[1;33m]\u001b[0m\u001b[1;33m,\u001b[0m\u001b[0mfmt\u001b[0m\u001b[1;33m=\u001b[0m\u001b[1;34m'go-'\u001b[0m\u001b[1;33m)\u001b[0m\u001b[1;33m\u001b[0m\u001b[0m\n\u001b[0;32m      4\u001b[0m \u001b[0mplot\u001b[0m\u001b[1;33m(\u001b[0m\u001b[1;33m[\u001b[0m\u001b[1;36m1e-2\u001b[0m\u001b[1;33m,\u001b[0m\u001b[1;36m10\u001b[0m\u001b[1;33m]\u001b[0m\u001b[1;33m,\u001b[0m\u001b[1;33m[\u001b[0m\u001b[1;36m0\u001b[0m\u001b[1;33m,\u001b[0m\u001b[1;36m0\u001b[0m\u001b[1;33m]\u001b[0m\u001b[1;33m,\u001b[0m\u001b[1;34m'-'\u001b[0m\u001b[1;33m)\u001b[0m\u001b[1;33m\u001b[0m\u001b[0m\n\u001b[0;32m      5\u001b[0m \u001b[0mxscale\u001b[0m\u001b[1;33m(\u001b[0m\u001b[1;34m'log'\u001b[0m\u001b[1;33m)\u001b[0m\u001b[1;33m;\u001b[0m\u001b[1;33m\u001b[0m\u001b[0m\n",
        "\u001b[1;32m/usr/lib/python2.7/dist-packages/h5py/_hl/group.pyc\u001b[0m in \u001b[0;36m__getitem__\u001b[1;34m(self, name)\u001b[0m\n\u001b[0;32m    125\u001b[0m                 \u001b[1;32mraise\u001b[0m \u001b[0mValueError\u001b[0m\u001b[1;33m(\u001b[0m\u001b[1;34m\"Invalid HDF5 object reference\"\u001b[0m\u001b[1;33m)\u001b[0m\u001b[1;33m\u001b[0m\u001b[0m\n\u001b[0;32m    126\u001b[0m         \u001b[1;32melse\u001b[0m\u001b[1;33m:\u001b[0m\u001b[1;33m\u001b[0m\u001b[0m\n\u001b[1;32m--> 127\u001b[1;33m             \u001b[0moid\u001b[0m \u001b[1;33m=\u001b[0m \u001b[0mh5o\u001b[0m\u001b[1;33m.\u001b[0m\u001b[0mopen\u001b[0m\u001b[1;33m(\u001b[0m\u001b[0mself\u001b[0m\u001b[1;33m.\u001b[0m\u001b[0mid\u001b[0m\u001b[1;33m,\u001b[0m \u001b[0mself\u001b[0m\u001b[1;33m.\u001b[0m\u001b[0m_e\u001b[0m\u001b[1;33m(\u001b[0m\u001b[0mname\u001b[0m\u001b[1;33m)\u001b[0m\u001b[1;33m,\u001b[0m \u001b[0mlapl\u001b[0m\u001b[1;33m=\u001b[0m\u001b[0mself\u001b[0m\u001b[1;33m.\u001b[0m\u001b[0m_shared\u001b[0m\u001b[1;33m.\u001b[0m\u001b[0mlapl\u001b[0m\u001b[1;33m)\u001b[0m\u001b[1;33m\u001b[0m\u001b[0m\n\u001b[0m\u001b[0;32m    128\u001b[0m \u001b[1;33m\u001b[0m\u001b[0m\n\u001b[0;32m    129\u001b[0m         \u001b[0motype\u001b[0m \u001b[1;33m=\u001b[0m \u001b[0mh5i\u001b[0m\u001b[1;33m.\u001b[0m\u001b[0mget_type\u001b[0m\u001b[1;33m(\u001b[0m\u001b[0moid\u001b[0m\u001b[1;33m)\u001b[0m\u001b[1;33m\u001b[0m\u001b[0m\n",
        "\u001b[1;32m/usr/lib/python2.7/dist-packages/h5py/h5o.so\u001b[0m in \u001b[0;36mh5py.h5o.open (h5py/h5o.c:2751)\u001b[1;34m()\u001b[0m\n",
        "\u001b[1;31mKeyError\u001b[0m: \"unable to open object (Symbol table: Can't open object)\""
       ]
      }
     ],
     "prompt_number": 9
    },
    {
     "cell_type": "markdown",
     "metadata": {},
     "source": [
      "- When binned in 2d angular scale rather than projected distances, and using a single lens redshift slice, there's no evolution of the deviation point as a function of redshift, clearly indicating the deviation point is related to the sky geometry. (See also the bin dependence of the deviation point for WL_Z*.hdf5)."
     ]
    },
    {
     "cell_type": "code",
     "collapsed": false,
     "input": [
      "f=list(range(5))\n",
      "figure()\n",
      "for i in range(1,5):\n",
      "    f[i]=h5py.File('WL_MOCK%d'%i+'.hdf5','r')\n",
      "    r=f[i]['/shear/seperation'][:]\n",
      "    s=f[i]['/rand/profile'][:]\n",
      "    es=f[i]['/rand/profile_err'][:]\n",
      "    cov=f[i]['/shear/covariance'][:]\n",
      "    esc=sqrt(cov.diagonal())\n",
      "    errorbar(r*180/pi,s,es,fmt='-',label='z=0.%d'%i)\n",
      "    #plot(r*180/pi,s,label='%d'%i)\n",
      "    hold('on')\n",
      "xscale('log');\n",
      "#yscale('symlog',linthres=0.1)\n",
      "legend(numpoints=1)\n",
      "plot([0.1,15],[0,0],':')\n",
      "xlim(0.1,20)\n",
      "ylim(-0.005,0.005)\n",
      "title('systematic shear for lenses at different redshifts')\n",
      "xlabel('R/deg')\n",
      "ylabel('systematic shear')\n",
      "savefig('../systematic_shear/systematic_shear_redshift_dimensionless.eps')"
     ],
     "language": "python",
     "metadata": {},
     "outputs": [],
     "prompt_number": 28
    },
    {
     "cell_type": "code",
     "collapsed": false,
     "input": [
      "#relative sys shear for different redshift bins\n",
      "f=list(range(5))\n",
      "figure()\n",
      "for i in range(0,5):\n",
      "    f[i]=h5py.File('WL_Z%d'%(i+1)+'.hdf5','r')\n",
      "    errorbar(f[i]['/shear/seperation'][:],f[i]['/rand/profile'][:]/f[i]['/predict0/profile'][:],f[i]['/rand/profile_err'][:]/f[i]\n",
      "['/predict0/profile'][:],fmt='o--',label='Z%d'%(i+1))\n",
      "\n",
      "legend(numpoints=1)    \n",
      "xlabel('Comoving Seperation[Mpc/h]')\n",
      "ylabel('Relative background shear')\n",
      "xscale('log')\n",
      "yscale('symlog',linthres=1)"
     ],
     "language": "python",
     "metadata": {},
     "outputs": [],
     "prompt_number": 29
    },
    {
     "cell_type": "code",
     "collapsed": false,
     "input": [
      "#systematic shear from source galaxies at different redshift ranges\n",
      "f=list(range(5))\n",
      "f[0]=h5py.File('randprof_SrcSlice1_1234.hdf5','r')\n",
      "f[1]=h5py.File('randprof_SrcSlice2_1234.hdf5','r')\n",
      "f[2]=h5py.File('randprof_SrcSlice3_1234.hdf5','r')\n",
      "f[3]=h5py.File('randprof_SrcSlice4_1234.hdf5','r')\n",
      "f[4]=h5py.File('randprof_SrcSlice5_1234.hdf5','r')\n",
      "h=list(range(5))\n",
      "figure()\n",
      "for i in range(5):\n",
      "    h[i]=errorbar(f[i]['/shear/seperation'][:]*180/pi,f[i]['/shear/profile'][:],sqrt(f[i]['/shear/covariance'][:].diagonal()))\n",
      "    hold('on')\n",
      "xscale('log')\n",
      "legend(('0-0.2','0.2-0.3','0.3-0.5','0.5-0.9','0.9-'))\n",
      "plot([0.1,15],[0,0],':')\n",
      "xlim(0.1,20)\n",
      "ylim(-0.02,0.02)\n",
      "title('systematic shear from source galaxies at different redshift ranges')\n",
      "xlabel('R/deg')\n",
      "ylabel('systematic shear')\n",
      "savefig('../systematic_shear/systematic_shear_contribution_Z.eps')"
     ],
     "language": "python",
     "metadata": {},
     "outputs": [],
     "prompt_number": 31
    },
    {
     "cell_type": "code",
     "collapsed": false,
     "input": [
      "#systematic shear across three GAMA regions\n",
      "#all regions show the same systematic (negative shear). So it could hardly be due to shear systematics, but be due to region geometry(??)\n",
      "# does the galaxy know how the bounding box is aligned? if there's no preferred direction, then ...\n",
      "f=list(range(5))\n",
      "#SrcSlice5 is for source z>0.5\n",
      "f[0]=h5py.File('randprof_SrcSlice6_1234.hdf5','r')\n",
      "f[1]=h5py.File('randprof_SrcSlice6.Sky0_1234.hdf5','r')\n",
      "f[2]=h5py.File('randprof_SrcSlice6.Sky1_1234.hdf5','r')\n",
      "f[3]=h5py.File('randprof_SrcSlice6.Sky2_1234.hdf5','r')\n",
      "figure()\n",
      "errorbar(f[0]['/shear/seperation'][:]*180/pi,f[0]['/shear/profile'][:],sqrt(f[0]['/shear/covariance'][:].diagonal()),fmt='o')\n",
      "hold('on')\n",
      "for i in range(1,4):\n",
      "    errorbar(f[i]['/shear/seperation'][:]*180/pi,f[i]['/shear/profile'][:],sqrt(f[i]['/shear/covariance'][:].diagonal()))\n",
      "xscale('log')\n",
      "legend(('z>0.5','Sky0','Sky1','Sky2'),numpoints=2)\n",
      "plot([0.1,15],[0,0],':')\n",
      "xlim(0.1,20)\n",
      "ylim(-0.02,0.02)\n",
      "title('systematic shear across three GAMA regions')\n",
      "xlabel('R/deg')\n",
      "ylabel('systematic shear')\n",
      "savefig('../systematic_shear/systematic_shear_contribution_regions.eps')\n",
      "#compare to CFHT sys shear\n",
      "f1=h5py.File('randprof_CFHT.CFHTSKY_1234.hdf5','r')\n",
      "plot(f1['/shear/seperation'][:]*180/pi,f1['/shear/profile'][:],'kx',label='CFHT')\n",
      "legend(('z>0.5','Sky0','Sky1','Sky2','CFHT'),numpoints=2)\n",
      "savefig('../CFHT/systematic_shear_compare_CFHT.eps')"
     ],
     "language": "python",
     "metadata": {},
     "outputs": [],
     "prompt_number": 37
    },
    {
     "cell_type": "markdown",
     "metadata": {},
     "source": [
      "After Padding 3.0 deg around each gama region and fill the region with random groups, the deviation point has been shifted to r>3deg"
     ]
    },
    {
     "cell_type": "code",
     "collapsed": false,
     "input": [
      "f=h5py.File('randprof_SrcSlice6_1234.hdf5','r')\n",
      "f1=h5py.File('randprof_SrcSlice6.Pad3_1234.hdf5','r')\n",
      "plot(f['/shear/seperation'][:]*180/pi,f['/shear/profile'][:],'ro-')\n",
      "hold('on')\n",
      "plot(f1['/shear/seperation'][:]*180/pi,f1['/shear/profile'][:],'gs-')\n",
      "legend(('Original GAMA regions','Padded GAMA regions'))\n",
      "plot(r*180/pi,zeros(r.shape),':')\n",
      "xscale('log');\n",
      "#yscale('symlog',linthres=0.001)\n",
      "xlabel('R/deg')\n",
      "ylabel('systematic shear')\n",
      "xlim(0.1,12)\n",
      "savefig('../systematic_shear/systematic_shear_padding.eps')"
     ],
     "language": "python",
     "metadata": {},
     "outputs": [],
     "prompt_number": 38
    },
    {
     "cell_type": "markdown",
     "metadata": {},
     "source": [
      "When trimmed to square regions (dRA=4deg=dDEC), hardly any systematic is observed"
     ]
    },
    {
     "cell_type": "code",
     "collapsed": false,
     "input": [
      "f=h5py.File('randprof_SquareRegion_1234.hdf5','r')\n",
      "plot(f['/shear/seperation'][:]*180/pi,f['/shear/profile'][:],'o')\n",
      "f1=h5py.File('randprof_SrcSlice6.Sky2_1234.hdf5','r')\n",
      "plot(f1['/shear/seperation'][:]*180/pi,f1['/shear/profile'][:],'-')\n",
      "xscale('log');\n",
      "legend(('Central4x4','z>0.5 Full region'),loc='lower left')\n",
      "#yscale('symlog',linthres=0.001)\n",
      "xlabel('R/deg')\n",
      "ylabel('systematic shear')\n",
      "xlim(0.1,12)\n",
      "title('square region')\n",
      "plot([0.1,10],[0,0],'--')\n",
      "savefig('../systematic_shear/systematic_shear_SquareRegion.eps')"
     ],
     "language": "python",
     "metadata": {},
     "outputs": [],
     "prompt_number": 71
    },
    {
     "cell_type": "heading",
     "level": 1,
     "metadata": {},
     "source": [
      "CFHT sys shear and measurement"
     ]
    },
    {
     "cell_type": "code",
     "collapsed": false,
     "input": [
      "#CFHT: relative sys shear \n",
      "f=list(range(5))\n",
      "figure()\n",
      "for i in range(2,3):\n",
      "    f[i]=h5py.File('../data_old/WL_Z%d'%(i+1)+'.hdf5','r')\n",
      "    errorbar(f[i]['/shear/seperation'][:],f[i]['/rand/profile'][:]/f[i]['/predict0/profile'][:],f[i]['/rand/profile_err'][:]/f[i]\n",
      "['/predict0/profile'][:],fmt='o--',label='Z%d'%(i+1)+'.GAMA')\n",
      "\n",
      "for i in range(0,3):\n",
      "    f[i]=h5py.File('WL_L%d'%(i+1)+'.Rmax100.CFHT.hdf5','r')\n",
      "    errorbar(f[i]['/shear/seperation'][:],f[i]['/rand/profile'][:]/f[i]['/predict0/profile'][:],f[i]['/rand/profile_err'][:]/f[i]\n",
      "['/predict0/profile'][:],fmt='o--',label='L%d.CFHT'%(i+1))\n",
      "    \n",
      "legend(numpoints=1,loc='upper left')    \n",
      "xlabel('Comoving Seperation[Mpc/h]')\n",
      "ylabel('Relative background shear')\n",
      "xscale('log')\n",
      "yscale('symlog',linthres=1)\n",
      "savefig('../CFHT/CFHT_relative_sysshear.eps')"
     ],
     "language": "python",
     "metadata": {},
     "outputs": [],
     "prompt_number": 74
    },
    {
     "cell_type": "code",
     "collapsed": false,
     "input": [
      "#CFHT measurement compared to GAMA for L3\n",
      "f1=h5py.File('WL_L3.CFHT.hdf5','r')\n",
      "l1=errorbar(f1['/shear/seperation'][:]*180/pi,f1['/shear/profile'][:],f1['/shear/profile_err'][:],fmt='o')\n",
      "l11,=plot(f1['/shear/seperation'][:]*180/pi,f1['/predict0/profile'][:],'-')\n",
      "f2=h5py.File('WL_L3.hdf5','r')\n",
      "l2=errorbar(f2['/shear/seperation'][:]*180/pi,f2['/shear/profile'][:],f2['/shear/profile_err'][:],fmt='x')\n",
      "xscale('log')\n",
      "yscale('log')\n",
      "legend((l1[0],l11,l2[0]),('CFHT','CFHT Predict','GAMA'))\n",
      "title('LumMass 3')\n",
      "savefig('../CFHT/wl_sig_CFHT_L3.eps')"
     ],
     "language": "python",
     "metadata": {},
     "outputs": [],
     "prompt_number": 73
    }
   ],
   "metadata": {}
  }
 ]
}